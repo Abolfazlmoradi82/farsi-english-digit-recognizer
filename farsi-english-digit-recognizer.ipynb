{
 "cells": [
  {
   "cell_type": "code",
   "execution_count": null,
   "id": "68688b4a",
   "metadata": {},
   "outputs": [],
   "source": [
    "import tensorflow as tf # Import tensorflow library for deep learning\n",
    "import matplotlib.pyplot as plt # Import Matplotlib for plotting results\n",
    "import numpy as np # Import Numoy for numerical opeations\n",
    "\n",
    "from tensorflow.keras import layers, models # Import layers and model utilites\n",
    "from tensorflow.keras.models import load_model # Import function to load saved model\n",
    "from tensorflow.keras.preprocessing import image # Import utilities for image preprocessing\n",
    "from sklearn.metrics import confusion_matrix, ConfusionMatrixDisplay # Import confusion matrix functions\n"
   ]
  },
  {
   "cell_type": "code",
   "execution_count": 3,
   "id": "66b24575",
   "metadata": {},
   "outputs": [
    {
     "name": "stdout",
     "output_type": "stream",
     "text": [
      "Found 80000 files belonging to 1 classes.\n",
      "Using 64000 files for training.\n"
     ]
    }
   ],
   "source": [
    "# Load training dataset from diractory with 80% split\n",
    "train_data = tf.keras.utils.image_dataset_from_directory(\n",
    "    \"data_sets\",            # Path to the dataset folder\n",
    "    validation_split = 0.2, # Reserve 20% of data for validation\n",
    "    subset = \"training\",    # spectify training subset\n",
    "    seed = 123,             # Random seed for reproductibility\n",
    "    image_size = (28, 28),  # Resize all images to 28*28\n",
    "    color_mode= \"grayscale\", # Use grayscale since digits are black & white\n",
    "    batch_size = 64         # Number of images processed per batch\n",
    ")"
   ]
  },
  {
   "cell_type": "code",
   "execution_count": 4,
   "id": "99eea638",
   "metadata": {},
   "outputs": [
    {
     "name": "stdout",
     "output_type": "stream",
     "text": [
      "Found 80000 files belonging to 1 classes.\n",
      "Using 16000 files for validation.\n"
     ]
    }
   ],
   "source": [
    "# Load validation dataset from directory with 20% split\n",
    "val_data = tf.keras.utils.image_dataset_from_directory(\n",
    "    \"data_sets\",            # Path to the data folder\n",
    "    validation_split= 0.2,  # Same 20% reserved for validation\n",
    "    subset = \"validation\",  # Specify validation subset\n",
    "    seed = 123,             # Randome seed for reproducibility\n",
    "    image_size = (28, 28),  # Resize images to 28*28\n",
    "    color_mode = \"grayscale\", # Grayscale images\n",
    "    batch_size = 64         # Number of image per bath\n",
    ")"
   ]
  },
  {
   "cell_type": "code",
   "execution_count": 5,
   "id": "a7cdf51e",
   "metadata": {},
   "outputs": [],
   "source": [
    "# Normalize pixel values from [0,255] to [0,1]\n",
    "normalization_layer = tf.keras.layers.Rescaling(1./255)\n",
    "train_data = train_data.map(lambda x, y: (normalization_layer(x), y)) # Aplly normalization to training set\n",
    "val_data = val_data.map(lambda x, y: (normalization_layer(x), y)) # Aplly normalization to validation set"
   ]
  },
  {
   "cell_type": "code",
   "execution_count": 6,
   "id": "cde32007",
   "metadata": {},
   "outputs": [],
   "source": [
    "# Define a Convolutional Neural Network (CNN) model\n",
    "model = models.Sequential([\n",
    "    layers.Conv2D(32, (3, 3), activation = 'relu', input_shape = (28, 28, 1)), # First convolutional layer with 32 filters\n",
    "    layers.MaxPool2D(2, 2), # Downsample feature maps by 2x2\n",
    "\n",
    "    layers.Conv2D(64, (3, 3), activation = 'relu'), # Second convolutional layer with 64 filters\n",
    "    layers.MaxPool2D(2, 2), # Downsample again\n",
    "\n",
    "    layers.Flatten(),           # Flatten 2D Feature maps into 1D vector\n",
    "    layers.Dense(128, activation = 'relu'), # Fully connected layer with 128 nourins\n",
    "    layers.Dropout(0.5),        # Dropout 50% to prevent overfitting\n",
    "    layers.Dense(20, activation = 'softmax') # Output layer with 20 classes (digits 0-9 + persian 0-9)\n",
    "])"
   ]
  },
  {
   "cell_type": "code",
   "execution_count": 7,
   "id": "d82afd77",
   "metadata": {},
   "outputs": [],
   "source": [
    "# Compile the model with optimizer, loss function, and metrics\n",
    "model.compile(\n",
    "        optimizer = 'adam',               # Adam optimizer for adaptive learning\n",
    "        loss = 'sparse_categorical_crossentropy',    # Loss for multi-class classification with labels\n",
    "        metrics = ['accuracy'])          # Track accuracy during training"
   ]
  },
  {
   "cell_type": "code",
   "execution_count": null,
   "id": "264d24a9",
   "metadata": {},
   "outputs": [
    {
     "name": "stdout",
     "output_type": "stream",
     "text": [
      "Epoch 1/15\n",
      "1000/1000 [==============================] - 230s 227ms/step - loss: 0.0228 - accuracy: 0.9991 - val_loss: 0.0000e+00 - val_accuracy: 1.0000\n",
      "Epoch 2/15\n",
      "1000/1000 [==============================] - 31s 31ms/step - loss: 3.2406e-07 - accuracy: 1.0000 - val_loss: 0.0000e+00 - val_accuracy: 1.0000\n",
      "Epoch 3/15\n",
      "1000/1000 [==============================] - 31s 31ms/step - loss: 2.6445e-07 - accuracy: 1.0000 - val_loss: 0.0000e+00 - val_accuracy: 1.0000\n",
      "Epoch 4/15\n",
      "1000/1000 [==============================] - 32s 31ms/step - loss: 1.4504e-07 - accuracy: 1.0000 - val_loss: 0.0000e+00 - val_accuracy: 1.0000\n",
      "Epoch 5/15\n",
      "1000/1000 [==============================] - 31s 31ms/step - loss: 1.7409e-07 - accuracy: 1.0000 - val_loss: 0.0000e+00 - val_accuracy: 1.0000\n",
      "Epoch 6/15\n",
      "1000/1000 [==============================] - 31s 31ms/step - loss: 9.3472e-08 - accuracy: 1.0000 - val_loss: 0.0000e+00 - val_accuracy: 1.0000\n",
      "Epoch 7/15\n",
      "1000/1000 [==============================] - 31s 31ms/step - loss: 5.2150e-08 - accuracy: 1.0000 - val_loss: 0.0000e+00 - val_accuracy: 1.0000\n",
      "Epoch 8/15\n",
      "1000/1000 [==============================] - 31s 31ms/step - loss: 7.4312e-08 - accuracy: 1.0000 - val_loss: 0.0000e+00 - val_accuracy: 1.0000\n",
      "Epoch 9/15\n",
      "1000/1000 [==============================] - 32s 31ms/step - loss: 3.7834e-08 - accuracy: 1.0000 - val_loss: 0.0000e+00 - val_accuracy: 1.0000\n",
      "Epoch 10/15\n",
      "1000/1000 [==============================] - 31s 31ms/step - loss: 2.2696e-08 - accuracy: 1.0000 - val_loss: 0.0000e+00 - val_accuracy: 1.0000\n",
      "Epoch 11/15\n",
      "1000/1000 [==============================] - 30s 30ms/step - loss: 1.6614e-08 - accuracy: 1.0000 - val_loss: 0.0000e+00 - val_accuracy: 1.0000\n",
      "Epoch 12/15\n",
      "1000/1000 [==============================] - 30s 30ms/step - loss: 2.7151e-08 - accuracy: 1.0000 - val_loss: 0.0000e+00 - val_accuracy: 1.0000\n",
      "Epoch 13/15\n",
      "1000/1000 [==============================] - 30s 30ms/step - loss: 2.6263e-09 - accuracy: 1.0000 - val_loss: 0.0000e+00 - val_accuracy: 1.0000\n",
      "Epoch 14/15\n",
      "1000/1000 [==============================] - 30s 30ms/step - loss: 2.8498e-09 - accuracy: 1.0000 - val_loss: 0.0000e+00 - val_accuracy: 1.0000\n",
      "Epoch 15/15\n",
      "1000/1000 [==============================] - 30s 30ms/step - loss: 2.2985e-09 - accuracy: 1.0000 - val_loss: 0.0000e+00 - val_accuracy: 1.0000\n"
     ]
    },
    {
     "data": {
      "text/plain": [
       "<keras.src.callbacks.History at 0x23fc645c5e0>"
      ]
     },
     "execution_count": 17,
     "metadata": {},
     "output_type": "execute_result"
    }
   ],
   "source": [
    "# Train the model on training data and validate on validation data\n",
    "model.fit(train_data, validation_data = val_data, epochs=15) # Train for 15 epochs"
   ]
  },
  {
   "cell_type": "code",
   "execution_count": null,
   "id": "ba29120b",
   "metadata": {},
   "outputs": [
    {
     "name": "stderr",
     "output_type": "stream",
     "text": [
      "g:\\miniconda\\envs\\myenv\\lib\\site-packages\\keras\\src\\engine\\training.py:3000: UserWarning: You are saving your model as an HDF5 file via `model.save()`. This file format is considered legacy. We recommend using instead the native Keras format, e.g. `model.save('my_model.keras')`.\n",
      "  saving_api.save_model(\n"
     ]
    }
   ],
   "source": [
    "# Save the trained model to a file\n",
    "model.save(\"persian_digits_model.h5\") # Save model in HDF5 format"
   ]
  },
  {
   "cell_type": "code",
   "execution_count": 8,
   "id": "456ea171",
   "metadata": {},
   "outputs": [
    {
     "name": "stdout",
     "output_type": "stream",
     "text": [
      "Model: \"sequential\"\n",
      "_________________________________________________________________\n",
      " Layer (type)                Output Shape              Param #   \n",
      "=================================================================\n",
      " conv2d_3 (Conv2D)           (None, 26, 26, 32)        320       \n",
      "                                                                 \n",
      " max_pooling2d_1 (MaxPoolin  (None, 13, 13, 32)        0         \n",
      " g2D)                                                            \n",
      "                                                                 \n",
      " conv2d_4 (Conv2D)           (None, 11, 11, 64)        18496     \n",
      "                                                                 \n",
      " max_pooling2d_2 (MaxPoolin  (None, 5, 5, 64)          0         \n",
      " g2D)                                                            \n",
      "                                                                 \n",
      " flatten (Flatten)           (None, 1600)              0         \n",
      "                                                                 \n",
      " dense (Dense)               (None, 128)               204928    \n",
      "                                                                 \n",
      " dropout (Dropout)           (None, 128)               0         \n",
      "                                                                 \n",
      " dense_1 (Dense)             (None, 10)                1290      \n",
      "                                                                 \n",
      "=================================================================\n",
      "Total params: 225034 (879.04 KB)\n",
      "Trainable params: 225034 (879.04 KB)\n",
      "Non-trainable params: 0 (0.00 Byte)\n",
      "_________________________________________________________________\n"
     ]
    }
   ],
   "source": [
    "# load the saved model\n",
    "model = load_model('persian_digits_model.h5')\n",
    "model.summary() # Show model architecture"
   ]
  },
  {
   "cell_type": "code",
   "execution_count": 9,
   "id": "a4190efa",
   "metadata": {},
   "outputs": [
    {
     "name": "stdout",
     "output_type": "stream",
     "text": [
      "250/250 [==============================] - 21s 78ms/step - loss: 0.0000e+00 - accuracy: 1.0000\n",
      "Validation Accuracy: 1.00\n"
     ]
    }
   ],
   "source": [
    "# Evaluate the model on validation data\n",
    "loss, acc = model.evaluate(val_data)\n",
    "print(f\"Validation Accuracy: {acc:.2f}\") # Print validation accuracy"
   ]
  },
  {
   "cell_type": "code",
   "execution_count": 10,
   "id": "13927a20",
   "metadata": {},
   "outputs": [
    {
     "name": "stdout",
     "output_type": "stream",
     "text": [
      "250/250 [==============================] - 4s 15ms/step\n"
     ]
    }
   ],
   "source": [
    "# Get true labels and preditions\n",
    "y_true = np.concatenate([y for x, y in val_data], axis= 0)\n",
    "y_pred = np.argmax(model.predict(val_data), axis=1)"
   ]
  },
  {
   "cell_type": "code",
   "execution_count": 11,
   "id": "c88dff71",
   "metadata": {},
   "outputs": [
    {
     "data": {
      "image/png": "[encoded data removed]",
      "text/plain": [
       "<Figure size 640x480 with 2 Axes>"
      ]
     },
     "metadata": {},
     "output_type": "display_data"
    }
   ],
   "source": [
    "# Get true labels and predictions\n",
    "cm = confusion_matrix(y_true, y_pred)\n",
    "dsip = ConfusionMatrixDisplay(confusion_matrix= cm)\n",
    "dsip.plot(cmap =plt.cm.Blues, values_format='d')\n",
    "plt.show()"
   ]
  }
 ],
 "metadata": {
  "kernelspec": {
   "display_name": "Python (myenv)",
   "language": "python",
   "name": "myenv"
  },
  "language_info": {
   "codemirror_mode": {
    "name": "ipython",
    "version": 3
   },
   "file_extension": ".py",
   "mimetype": "text/x-python",
   "name": "python",
   "nbconvert_exporter": "python",
   "pygments_lexer": "ipython3",
   "version": "3.8.20"
  }
 },
 "nbformat": 4,
 "nbformat_minor": 5
}
